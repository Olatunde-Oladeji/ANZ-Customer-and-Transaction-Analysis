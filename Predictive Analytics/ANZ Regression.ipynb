{
 "cells": [
  {
   "cell_type": "markdown",
   "id": "2b6f1c54",
   "metadata": {},
   "source": [
    "# Multiple Linear Regression"
   ]
  },
  {
   "cell_type": "markdown",
   "id": "980cf453",
   "metadata": {},
   "source": [
    "## Importing the libraries"
   ]
  },
  {
   "cell_type": "code",
   "execution_count": 1,
   "id": "2141ef1b",
   "metadata": {},
   "outputs": [],
   "source": [
    "import numpy as np\n",
    "import pandas as pd\n",
    "import matplotlib.pyplot as plt"
   ]
  },
  {
   "cell_type": "markdown",
   "id": "caa0edba",
   "metadata": {},
   "source": [
    "## Importing the dataset"
   ]
  },
  {
   "cell_type": "code",
   "execution_count": 2,
   "id": "b175cbdc",
   "metadata": {},
   "outputs": [],
   "source": [
    "dataset = pd.read_csv(\"ANZ_customers_salary.csv\")\n",
    "X = dataset.iloc[:, [2, 4]].values\n",
    "y = dataset.iloc[:, 3].values"
   ]
  },
  {
   "cell_type": "code",
   "execution_count": 3,
   "id": "b6ea701f",
   "metadata": {},
   "outputs": [
    {
     "name": "stdout",
     "output_type": "stream",
     "text": [
      "[[40 'South Australia']\n",
      " [38 'Victoria']\n",
      " [43 'Victoria']\n",
      " [78 'Victoria']\n",
      " [26 'Western Australia']\n",
      " [25 'Queensland']\n",
      " [38 'South Australia']\n",
      " [52 'Western Australia']\n",
      " [42 'Queensland']\n",
      " [26 'New South Wales']\n",
      " [18 'Queensland']\n",
      " [39 'New South Wales']\n",
      " [33 'Victoria']\n",
      " [35 'New South Wales']\n",
      " [19 'Victoria']\n",
      " [28 'New South Wales']\n",
      " [20 'South Australia']\n",
      " [42 'Australian Capital Territory']\n",
      " [18 'South Australia']\n",
      " [20 'Victoria']\n",
      " [26 'Queensland']\n",
      " [22 'New South Wales']\n",
      " [28 'Victoria']\n",
      " [19 'Western Australia']\n",
      " [50 'Victoria']\n",
      " [43 'Victoria']\n",
      " [22 'New South Wales']\n",
      " [42 'Victoria']\n",
      " [19 'New South Wales']\n",
      " [42 'New South Wales']\n",
      " [41 'Victoria']\n",
      " [23 'New South Wales']\n",
      " [30 'South Australia']\n",
      " [28 'Queensland']\n",
      " [30 'Queensland']\n",
      " [24 'Victoria']\n",
      " [21 'Northern Territory']\n",
      " [34 'South Australia']\n",
      " [38 'Northern Territory']\n",
      " [37 'Queensland']\n",
      " [21 'Victoria']\n",
      " [21 'Western Australia']\n",
      " [26 'New South Wales']\n",
      " [29 'Western Australia']\n",
      " [35 'Queensland']\n",
      " [27 'Victoria']\n",
      " [24 'Victoria']\n",
      " [35 'New South Wales']\n",
      " [43 'Victoria']\n",
      " [24 'Western Australia']\n",
      " [35 'Victoria']\n",
      " [18 'Queensland']\n",
      " [21 'Western Australia']\n",
      " [27 'Victoria']\n",
      " [18 'New South Wales']\n",
      " [35 'South Australia']\n",
      " [23 'Victoria']\n",
      " [64 'Tasmania']\n",
      " [39 'Victoria']\n",
      " [30 'New South Wales']\n",
      " [22 'Victoria']\n",
      " [38 'New South Wales']\n",
      " [44 'Victoria']\n",
      " [40 'New South Wales']\n",
      " [19 'Western Australia']\n",
      " [21 'New South Wales']\n",
      " [30 'Victoria']\n",
      " [19 'New South Wales']\n",
      " [40 'Victoria']\n",
      " [31 'New South Wales']\n",
      " [46 'Victoria']\n",
      " [25 'Western Australia']\n",
      " [21 'Victoria']\n",
      " [38 'Victoria']\n",
      " [40 'Queensland']\n",
      " [22 'Victoria']\n",
      " [24 'Queensland']\n",
      " [37 'Queensland']\n",
      " [43 'Victoria']\n",
      " [20 'New South Wales']\n",
      " [26 'Victoria']\n",
      " [34 'New South Wales']\n",
      " [25 'Queensland']\n",
      " [47 'Western Australia']\n",
      " [31 'New South Wales']\n",
      " [38 'New South Wales']\n",
      " [34 'Northern Territory']\n",
      " [46 'New South Wales']\n",
      " [23 'New South Wales']\n",
      " [53 'Queensland']\n",
      " [20 'New South Wales']\n",
      " [19 'Victoria']\n",
      " [25 'Western Australia']\n",
      " [40 'Western Australia']\n",
      " [20 'Victoria']\n",
      " [27 'Western Australia']\n",
      " [44 'Victoria']\n",
      " [69 'Victoria']\n",
      " [20 'Western Australia']]\n"
     ]
    }
   ],
   "source": [
    "print(X)"
   ]
  },
  {
   "cell_type": "code",
   "execution_count": 4,
   "id": "c88ee5e8",
   "metadata": {},
   "outputs": [],
   "source": [
    "X = X.reshape(X.shape[0],-1)"
   ]
  },
  {
   "cell_type": "markdown",
   "id": "63717811",
   "metadata": {},
   "source": [
    "## Encoding Categorical Variable"
   ]
  },
  {
   "cell_type": "code",
   "execution_count": 5,
   "id": "60f75c6e",
   "metadata": {},
   "outputs": [],
   "source": [
    "from sklearn.compose import ColumnTransformer\n",
    "from sklearn.preprocessing import OneHotEncoder\n",
    "ct = ColumnTransformer(transformers=[('encoder', OneHotEncoder(sparse=False), [1])], remainder='passthrough')\n",
    "X = np.array(ct.fit_transform(X))"
   ]
  },
  {
   "cell_type": "code",
   "execution_count": 6,
   "id": "52939a87",
   "metadata": {},
   "outputs": [
    {
     "name": "stdout",
     "output_type": "stream",
     "text": [
      "[[0.0 0.0 0.0 0.0 1.0 0.0 0.0 0.0 40]\n",
      " [0.0 0.0 0.0 0.0 0.0 0.0 1.0 0.0 38]\n",
      " [0.0 0.0 0.0 0.0 0.0 0.0 1.0 0.0 43]\n",
      " [0.0 0.0 0.0 0.0 0.0 0.0 1.0 0.0 78]\n",
      " [0.0 0.0 0.0 0.0 0.0 0.0 0.0 1.0 26]\n",
      " [0.0 0.0 0.0 1.0 0.0 0.0 0.0 0.0 25]\n",
      " [0.0 0.0 0.0 0.0 1.0 0.0 0.0 0.0 38]\n",
      " [0.0 0.0 0.0 0.0 0.0 0.0 0.0 1.0 52]\n",
      " [0.0 0.0 0.0 1.0 0.0 0.0 0.0 0.0 42]\n",
      " [0.0 1.0 0.0 0.0 0.0 0.0 0.0 0.0 26]\n",
      " [0.0 0.0 0.0 1.0 0.0 0.0 0.0 0.0 18]\n",
      " [0.0 1.0 0.0 0.0 0.0 0.0 0.0 0.0 39]\n",
      " [0.0 0.0 0.0 0.0 0.0 0.0 1.0 0.0 33]\n",
      " [0.0 1.0 0.0 0.0 0.0 0.0 0.0 0.0 35]\n",
      " [0.0 0.0 0.0 0.0 0.0 0.0 1.0 0.0 19]\n",
      " [0.0 1.0 0.0 0.0 0.0 0.0 0.0 0.0 28]\n",
      " [0.0 0.0 0.0 0.0 1.0 0.0 0.0 0.0 20]\n",
      " [1.0 0.0 0.0 0.0 0.0 0.0 0.0 0.0 42]\n",
      " [0.0 0.0 0.0 0.0 1.0 0.0 0.0 0.0 18]\n",
      " [0.0 0.0 0.0 0.0 0.0 0.0 1.0 0.0 20]\n",
      " [0.0 0.0 0.0 1.0 0.0 0.0 0.0 0.0 26]\n",
      " [0.0 1.0 0.0 0.0 0.0 0.0 0.0 0.0 22]\n",
      " [0.0 0.0 0.0 0.0 0.0 0.0 1.0 0.0 28]\n",
      " [0.0 0.0 0.0 0.0 0.0 0.0 0.0 1.0 19]\n",
      " [0.0 0.0 0.0 0.0 0.0 0.0 1.0 0.0 50]\n",
      " [0.0 0.0 0.0 0.0 0.0 0.0 1.0 0.0 43]\n",
      " [0.0 1.0 0.0 0.0 0.0 0.0 0.0 0.0 22]\n",
      " [0.0 0.0 0.0 0.0 0.0 0.0 1.0 0.0 42]\n",
      " [0.0 1.0 0.0 0.0 0.0 0.0 0.0 0.0 19]\n",
      " [0.0 1.0 0.0 0.0 0.0 0.0 0.0 0.0 42]\n",
      " [0.0 0.0 0.0 0.0 0.0 0.0 1.0 0.0 41]\n",
      " [0.0 1.0 0.0 0.0 0.0 0.0 0.0 0.0 23]\n",
      " [0.0 0.0 0.0 0.0 1.0 0.0 0.0 0.0 30]\n",
      " [0.0 0.0 0.0 1.0 0.0 0.0 0.0 0.0 28]\n",
      " [0.0 0.0 0.0 1.0 0.0 0.0 0.0 0.0 30]\n",
      " [0.0 0.0 0.0 0.0 0.0 0.0 1.0 0.0 24]\n",
      " [0.0 0.0 1.0 0.0 0.0 0.0 0.0 0.0 21]\n",
      " [0.0 0.0 0.0 0.0 1.0 0.0 0.0 0.0 34]\n",
      " [0.0 0.0 1.0 0.0 0.0 0.0 0.0 0.0 38]\n",
      " [0.0 0.0 0.0 1.0 0.0 0.0 0.0 0.0 37]\n",
      " [0.0 0.0 0.0 0.0 0.0 0.0 1.0 0.0 21]\n",
      " [0.0 0.0 0.0 0.0 0.0 0.0 0.0 1.0 21]\n",
      " [0.0 1.0 0.0 0.0 0.0 0.0 0.0 0.0 26]\n",
      " [0.0 0.0 0.0 0.0 0.0 0.0 0.0 1.0 29]\n",
      " [0.0 0.0 0.0 1.0 0.0 0.0 0.0 0.0 35]\n",
      " [0.0 0.0 0.0 0.0 0.0 0.0 1.0 0.0 27]\n",
      " [0.0 0.0 0.0 0.0 0.0 0.0 1.0 0.0 24]\n",
      " [0.0 1.0 0.0 0.0 0.0 0.0 0.0 0.0 35]\n",
      " [0.0 0.0 0.0 0.0 0.0 0.0 1.0 0.0 43]\n",
      " [0.0 0.0 0.0 0.0 0.0 0.0 0.0 1.0 24]\n",
      " [0.0 0.0 0.0 0.0 0.0 0.0 1.0 0.0 35]\n",
      " [0.0 0.0 0.0 1.0 0.0 0.0 0.0 0.0 18]\n",
      " [0.0 0.0 0.0 0.0 0.0 0.0 0.0 1.0 21]\n",
      " [0.0 0.0 0.0 0.0 0.0 0.0 1.0 0.0 27]\n",
      " [0.0 1.0 0.0 0.0 0.0 0.0 0.0 0.0 18]\n",
      " [0.0 0.0 0.0 0.0 1.0 0.0 0.0 0.0 35]\n",
      " [0.0 0.0 0.0 0.0 0.0 0.0 1.0 0.0 23]\n",
      " [0.0 0.0 0.0 0.0 0.0 1.0 0.0 0.0 64]\n",
      " [0.0 0.0 0.0 0.0 0.0 0.0 1.0 0.0 39]\n",
      " [0.0 1.0 0.0 0.0 0.0 0.0 0.0 0.0 30]\n",
      " [0.0 0.0 0.0 0.0 0.0 0.0 1.0 0.0 22]\n",
      " [0.0 1.0 0.0 0.0 0.0 0.0 0.0 0.0 38]\n",
      " [0.0 0.0 0.0 0.0 0.0 0.0 1.0 0.0 44]\n",
      " [0.0 1.0 0.0 0.0 0.0 0.0 0.0 0.0 40]\n",
      " [0.0 0.0 0.0 0.0 0.0 0.0 0.0 1.0 19]\n",
      " [0.0 1.0 0.0 0.0 0.0 0.0 0.0 0.0 21]\n",
      " [0.0 0.0 0.0 0.0 0.0 0.0 1.0 0.0 30]\n",
      " [0.0 1.0 0.0 0.0 0.0 0.0 0.0 0.0 19]\n",
      " [0.0 0.0 0.0 0.0 0.0 0.0 1.0 0.0 40]\n",
      " [0.0 1.0 0.0 0.0 0.0 0.0 0.0 0.0 31]\n",
      " [0.0 0.0 0.0 0.0 0.0 0.0 1.0 0.0 46]\n",
      " [0.0 0.0 0.0 0.0 0.0 0.0 0.0 1.0 25]\n",
      " [0.0 0.0 0.0 0.0 0.0 0.0 1.0 0.0 21]\n",
      " [0.0 0.0 0.0 0.0 0.0 0.0 1.0 0.0 38]\n",
      " [0.0 0.0 0.0 1.0 0.0 0.0 0.0 0.0 40]\n",
      " [0.0 0.0 0.0 0.0 0.0 0.0 1.0 0.0 22]\n",
      " [0.0 0.0 0.0 1.0 0.0 0.0 0.0 0.0 24]\n",
      " [0.0 0.0 0.0 1.0 0.0 0.0 0.0 0.0 37]\n",
      " [0.0 0.0 0.0 0.0 0.0 0.0 1.0 0.0 43]\n",
      " [0.0 1.0 0.0 0.0 0.0 0.0 0.0 0.0 20]\n",
      " [0.0 0.0 0.0 0.0 0.0 0.0 1.0 0.0 26]\n",
      " [0.0 1.0 0.0 0.0 0.0 0.0 0.0 0.0 34]\n",
      " [0.0 0.0 0.0 1.0 0.0 0.0 0.0 0.0 25]\n",
      " [0.0 0.0 0.0 0.0 0.0 0.0 0.0 1.0 47]\n",
      " [0.0 1.0 0.0 0.0 0.0 0.0 0.0 0.0 31]\n",
      " [0.0 1.0 0.0 0.0 0.0 0.0 0.0 0.0 38]\n",
      " [0.0 0.0 1.0 0.0 0.0 0.0 0.0 0.0 34]\n",
      " [0.0 1.0 0.0 0.0 0.0 0.0 0.0 0.0 46]\n",
      " [0.0 1.0 0.0 0.0 0.0 0.0 0.0 0.0 23]\n",
      " [0.0 0.0 0.0 1.0 0.0 0.0 0.0 0.0 53]\n",
      " [0.0 1.0 0.0 0.0 0.0 0.0 0.0 0.0 20]\n",
      " [0.0 0.0 0.0 0.0 0.0 0.0 1.0 0.0 19]\n",
      " [0.0 0.0 0.0 0.0 0.0 0.0 0.0 1.0 25]\n",
      " [0.0 0.0 0.0 0.0 0.0 0.0 0.0 1.0 40]\n",
      " [0.0 0.0 0.0 0.0 0.0 0.0 1.0 0.0 20]\n",
      " [0.0 0.0 0.0 0.0 0.0 0.0 0.0 1.0 27]\n",
      " [0.0 0.0 0.0 0.0 0.0 0.0 1.0 0.0 44]\n",
      " [0.0 0.0 0.0 0.0 0.0 0.0 1.0 0.0 69]\n",
      " [0.0 0.0 0.0 0.0 0.0 0.0 0.0 1.0 20]]\n"
     ]
    }
   ],
   "source": [
    "print(X)"
   ]
  },
  {
   "cell_type": "markdown",
   "id": "9ff19d0b",
   "metadata": {},
   "source": [
    "## Splitting the dataset into Training Set and Test Set"
   ]
  },
  {
   "cell_type": "code",
   "execution_count": 7,
   "id": "fe6a670f",
   "metadata": {},
   "outputs": [],
   "source": [
    "from sklearn.model_selection import train_test_split\n",
    "X_train, X_test, y_train, y_test = train_test_split(X, y, test_size = 0.2, random_state = 0)"
   ]
  },
  {
   "cell_type": "code",
   "execution_count": 8,
   "id": "3062d59c",
   "metadata": {},
   "outputs": [
    {
     "data": {
      "text/plain": [
       "LinearRegression()"
      ]
     },
     "execution_count": 8,
     "metadata": {},
     "output_type": "execute_result"
    }
   ],
   "source": [
    "from sklearn.linear_model import LinearRegression\n",
    "regressor = LinearRegression()\n",
    "regressor.fit(X_train, y_train)"
   ]
  },
  {
   "cell_type": "code",
   "execution_count": 9,
   "id": "3c8f1f6e",
   "metadata": {
    "scrolled": true
   },
   "outputs": [
    {
     "name": "stdout",
     "output_type": "stream",
     "text": [
      "[[2292.53  983.36]\n",
      " [2408.75 3517.61]\n",
      " [2018.78 1630.36]\n",
      " [2759.    862.95]\n",
      " [2337.32 2218.73]\n",
      " [2893.84 1225.33]\n",
      " [2986.53 3026.95]\n",
      " [2094.63 1541.12]\n",
      " [2353.21 1952.29]\n",
      " [2367.66 1640.83]\n",
      " [2261.48 1396.23]\n",
      " [2382.82 2485.37]\n",
      " [2018.78 2588.01]\n",
      " [2095.35 2308.67]\n",
      " [2484.29 3785.78]\n",
      " [2049.12 2101.51]\n",
      " [2246.31 1916.51]\n",
      " [1912.61 1436.98]\n",
      " [2469.43 2538.68]\n",
      " [2257.08 3231.26]]\n"
     ]
    }
   ],
   "source": [
    "y_pred = regressor.predict(X_test)\n",
    "np.set_printoptions(precision=2)\n",
    "print(np.concatenate((y_pred.reshape(len(y_pred),1), y_test.reshape(len(y_test),1)),1))"
   ]
  },
  {
   "cell_type": "markdown",
   "id": "cf1cab15",
   "metadata": {},
   "source": [
    "## Applying K-fold Cross-Validation"
   ]
  },
  {
   "cell_type": "code",
   "execution_count": 10,
   "id": "caa26435",
   "metadata": {},
   "outputs": [
    {
     "name": "stdout",
     "output_type": "stream",
     "text": [
      "Accuracy: -39.55 %\n",
      "Standard Deviation: 63.91 %\n"
     ]
    }
   ],
   "source": [
    "from sklearn.model_selection import cross_val_score\n",
    "accuracies = cross_val_score(regressor, X = X_train, y = y_train, cv = 10)\n",
    "print(\"Accuracy: {:.2f} %\".format(accuracies.mean()*100))\n",
    "print(\"Standard Deviation: {:.2f} %\".format(accuracies.std()*100))"
   ]
  }
 ],
 "metadata": {
  "kernelspec": {
   "display_name": "Python 3 (ipykernel)",
   "language": "python",
   "name": "python3"
  },
  "language_info": {
   "codemirror_mode": {
    "name": "ipython",
    "version": 3
   },
   "file_extension": ".py",
   "mimetype": "text/x-python",
   "name": "python",
   "nbconvert_exporter": "python",
   "pygments_lexer": "ipython3",
   "version": "3.9.7"
  }
 },
 "nbformat": 4,
 "nbformat_minor": 5
}
